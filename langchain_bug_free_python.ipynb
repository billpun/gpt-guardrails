{
 "cells": [
  {
   "cell_type": "code",
   "execution_count": 1,
   "id": "f6d681b3",
   "metadata": {},
   "outputs": [],
   "source": [
    "from langchain.prompts import (\n",
    "    PromptTemplate,\n",
    "    ChatPromptTemplate,\n",
    "    HumanMessagePromptTemplate,\n",
    ")\n",
    "from langchain.llms import OpenAI\n",
    "from langchain.chat_models import ChatOpenAI\n",
    "\n",
    "from langchain.output_parsers import PydanticOutputParser\n",
    "from pydantic import BaseModel, Field, validator, root_validator\n",
    "from typing import List\n",
    "\n",
    "import openai\n",
    "import os\n",
    "openai.organization = os.getenv('OPENAI_ORG')\n",
    "openai.api_key = os.getenv('OPENAI_API_KEY')\n",
    "\n",
    "from rich import print\n",
    "import ast"
   ]
  },
  {
   "cell_type": "code",
   "execution_count": 2,
   "id": "5e2a0162",
   "metadata": {},
   "outputs": [],
   "source": [
    "model_name = \"text-davinci-003\"\n",
    "temperature = 0.0\n",
    "model = OpenAI(model_name=model_name, temperature=temperature)"
   ]
  },
  {
   "cell_type": "code",
   "execution_count": 3,
   "id": "980eb271",
   "metadata": {},
   "outputs": [],
   "source": [
    "class CustomObj(BaseModel):\n",
    "    \n",
    "    python_code: str = Field(description=\"python code\")\n",
    "\n",
    "    @root_validator()\n",
    "    def verify_python_code(cls, values):\n",
    "        python_code = values.get(\"python_code\")\n",
    "        try:\n",
    "            ast.parse(python_code)\n",
    "        except:\n",
    "            raise ValueError(\"The python code is invalid.\")\n",
    "        return values"
   ]
  },
  {
   "cell_type": "code",
   "execution_count": 4,
   "id": "7c1f6905",
   "metadata": {},
   "outputs": [
    {
     "data": {
      "text/plain": [
       "'The output should be formatted as a JSON instance that conforms to the JSON schema below.\\n\\nAs an example, for the schema {\"properties\": {\"foo\": {\"title\": \"Foo\", \"description\": \"a list of strings\", \"type\": \"array\", \"items\": {\"type\": \"string\"}}}, \"required\": [\"foo\"]}\\nthe object {\"foo\": [\"bar\", \"baz\"]} is a well-formatted instance of the schema. The object {\"properties\": {\"foo\": [\"bar\", \"baz\"]}} is not well-formatted.\\n\\nHere is the output schema:\\n```\\n{\"properties\": {\"python_code\": {\"title\": \"Python Code\", \"description\": \"python code\", \"type\": \"string\"}}, \"required\": [\"python_code\"]}\\n```'"
      ]
     },
     "execution_count": 4,
     "metadata": {},
     "output_type": "execute_result"
    }
   ],
   "source": [
    "# Set up a parser + inject instructions into the prompt template.\n",
    "parser = PydanticOutputParser(pydantic_object=CustomObj)\n",
    "format_instructions = parser.get_format_instructions()\n",
    "format_instructions"
   ]
  },
  {
   "cell_type": "code",
   "execution_count": 5,
   "id": "e0bfd69c",
   "metadata": {},
   "outputs": [
    {
     "data": {
      "text/plain": [
       "'\\nGiven the following high level leetcode problem description, write a short Python code snippet that solves the \\nproblem. Please provide the function name if the snippet is a function.\\n\\nProblem Description:\\nGiven a string s, find the longest palindromic substring in s. You may assume that the maximum length of s is 1000.\\n'"
      ]
     },
     "execution_count": 5,
     "metadata": {},
     "output_type": "execute_result"
    }
   ],
   "source": [
    "query_prefix = '''\n",
    "Given the following high level leetcode problem description, write a short Python code snippet that solves the \n",
    "problem. Please provide the function name if the snippet is a function.\n",
    "\n",
    "Problem Description:\n",
    "{description}\n",
    "'''\n",
    "\n",
    "query = query_prefix.format(description='Given a string s, find the longest palindromic substring in s. You may assume that the maximum length of s is 1000.')\n",
    "query"
   ]
  },
  {
   "cell_type": "code",
   "execution_count": 6,
   "id": "646f1d02",
   "metadata": {},
   "outputs": [
    {
     "data": {
      "text/plain": [
       "PromptTemplate(input_variables=['query'], output_parser=None, partial_variables={'format_instructions': 'The output should be formatted as a JSON instance that conforms to the JSON schema below.\\n\\nAs an example, for the schema {\"properties\": {\"foo\": {\"title\": \"Foo\", \"description\": \"a list of strings\", \"type\": \"array\", \"items\": {\"type\": \"string\"}}}, \"required\": [\"foo\"]}\\nthe object {\"foo\": [\"bar\", \"baz\"]} is a well-formatted instance of the schema. The object {\"properties\": {\"foo\": [\"bar\", \"baz\"]}} is not well-formatted.\\n\\nHere is the output schema:\\n```\\n{\"properties\": {\"python_code\": {\"title\": \"Python Code\", \"description\": \"python code\", \"type\": \"string\"}}, \"required\": [\"python_code\"]}\\n```'}, template='Answer the user query.\\n{format_instructions}\\n{query}\\n', template_format='f-string', validate_template=True)"
      ]
     },
     "execution_count": 6,
     "metadata": {},
     "output_type": "execute_result"
    }
   ],
   "source": [
    "prompt = PromptTemplate(\n",
    "    template=\"Answer the user query.\\n{format_instructions}\\n{query}\\n\",\n",
    "    input_variables=[\"query\"],\n",
    "    partial_variables={\"format_instructions\": format_instructions},\n",
    ")\n",
    "prompt"
   ]
  },
  {
   "cell_type": "code",
   "execution_count": 7,
   "id": "33fb25f7",
   "metadata": {},
   "outputs": [
    {
     "data": {
      "text/plain": [
       "'Answer the user query.\\nThe output should be formatted as a JSON instance that conforms to the JSON schema below.\\n\\nAs an example, for the schema {\"properties\": {\"foo\": {\"title\": \"Foo\", \"description\": \"a list of strings\", \"type\": \"array\", \"items\": {\"type\": \"string\"}}}, \"required\": [\"foo\"]}\\nthe object {\"foo\": [\"bar\", \"baz\"]} is a well-formatted instance of the schema. The object {\"properties\": {\"foo\": [\"bar\", \"baz\"]}} is not well-formatted.\\n\\nHere is the output schema:\\n```\\n{\"properties\": {\"python_code\": {\"title\": \"Python Code\", \"description\": \"python code\", \"type\": \"string\"}}, \"required\": [\"python_code\"]}\\n```\\n\\nGiven the following high level leetcode problem description, write a short Python code snippet that solves the \\nproblem. Please provide the function name if the snippet is a function.\\n\\nProblem Description:\\nGiven a string s, find the longest palindromic substring in s. You may assume that the maximum length of s is 1000.\\n\\n'"
      ]
     },
     "execution_count": 7,
     "metadata": {},
     "output_type": "execute_result"
    }
   ],
   "source": [
    "input_prompt = prompt.format_prompt(query=query).to_string()\n",
    "input_prompt"
   ]
  },
  {
   "cell_type": "code",
   "execution_count": 8,
   "id": "0a552de1",
   "metadata": {},
   "outputs": [
    {
     "data": {
      "text/plain": [
       "'\\nOutput:\\n{\"python_code\": \"def longestPalindrome(s):\\\\n    n = len(s)\\\\n    dp = [[False for _ in range(n)] for _ in range(n)]\\\\n    ans = \\'\\'\\\\n    for i in range(n-1, -1, -1):\\\\n        for j in range(i, n):\\\\n            dp[i][j] = s[i] == s[j] and (j - i < 3 or dp[i+1][j-1])\\\\n            if dp[i][j] and j - i + 1 > len(ans):\\\\n                ans = s[i:j+1]\\\\n    return ans\"}'"
      ]
     },
     "execution_count": 8,
     "metadata": {},
     "output_type": "execute_result"
    }
   ],
   "source": [
    "output = model(input_prompt)\n",
    "output"
   ]
  },
  {
   "cell_type": "code",
   "execution_count": 9,
   "id": "2d756fbd",
   "metadata": {},
   "outputs": [
    {
     "data": {
      "text/html": [
       "<pre style=\"white-space:pre;overflow-x:auto;line-height:normal;font-family:Menlo,'DejaVu Sans Mono',consolas,'Courier New',monospace\">def <span style=\"color: #800080; text-decoration-color: #800080; font-weight: bold\">longestPalindrome</span><span style=\"font-weight: bold\">(</span>s<span style=\"font-weight: bold\">)</span>:\n",
       "    n = <span style=\"color: #800080; text-decoration-color: #800080; font-weight: bold\">len</span><span style=\"font-weight: bold\">(</span>s<span style=\"font-weight: bold\">)</span>\n",
       "    dp = <span style=\"font-weight: bold\">[[</span><span style=\"color: #ff0000; text-decoration-color: #ff0000; font-style: italic\">False</span> for _ in <span style=\"color: #800080; text-decoration-color: #800080; font-weight: bold\">range</span><span style=\"font-weight: bold\">(</span>n<span style=\"font-weight: bold\">)]</span> for _ in <span style=\"color: #800080; text-decoration-color: #800080; font-weight: bold\">range</span><span style=\"font-weight: bold\">(</span>n<span style=\"font-weight: bold\">)]</span>\n",
       "    ans = <span style=\"color: #008000; text-decoration-color: #008000\">''</span>\n",
       "    for i in <span style=\"color: #800080; text-decoration-color: #800080; font-weight: bold\">range</span><span style=\"font-weight: bold\">(</span>n-<span style=\"color: #008080; text-decoration-color: #008080; font-weight: bold\">1</span>, <span style=\"color: #008080; text-decoration-color: #008080; font-weight: bold\">-1</span>, <span style=\"color: #008080; text-decoration-color: #008080; font-weight: bold\">-1</span><span style=\"font-weight: bold\">)</span>:\n",
       "        for j in <span style=\"color: #800080; text-decoration-color: #800080; font-weight: bold\">range</span><span style=\"font-weight: bold\">(</span>i, n<span style=\"font-weight: bold\">)</span>:\n",
       "            dp<span style=\"font-style: italic\"> = s == s and </span><span style=\"font-weight: bold; font-style: italic\">(</span><span style=\"font-style: italic\">j - i </span><span style=\"font-weight: bold; font-style: italic\">&lt;</span><span style=\"color: #000000; text-decoration-color: #000000; font-style: italic\"> </span><span style=\"color: #008080; text-decoration-color: #008080; font-weight: bold; font-style: italic\">3</span><span style=\"color: #000000; text-decoration-color: #000000; font-style: italic\"> or dp</span><span style=\"color: #000000; text-decoration-color: #000000; font-weight: bold; font-style: italic\">)</span>\n",
       "<span style=\"color: #000000; text-decoration-color: #000000; font-style: italic\">            if dp and j - i + </span><span style=\"color: #008080; text-decoration-color: #008080; font-weight: bold; font-style: italic\">1</span><span style=\"color: #000000; text-decoration-color: #000000; font-style: italic\"> </span><span style=\"font-weight: bold; font-style: italic\">&gt;</span><span style=\"font-style: italic\"> </span><span style=\"color: #800080; text-decoration-color: #800080; font-weight: bold; font-style: italic\">len</span><span style=\"font-weight: bold; font-style: italic\">(</span><span style=\"font-style: italic\">ans</span><span style=\"font-weight: bold; font-style: italic\">)</span><span style=\"font-style: italic\">:</span>\n",
       "<span style=\"font-style: italic\">                ans = s</span>\n",
       "<span style=\"font-style: italic\">    return ans</span>\n",
       "</pre>\n"
      ],
      "text/plain": [
       "def \u001b[1;35mlongestPalindrome\u001b[0m\u001b[1m(\u001b[0ms\u001b[1m)\u001b[0m:\n",
       "    n = \u001b[1;35mlen\u001b[0m\u001b[1m(\u001b[0ms\u001b[1m)\u001b[0m\n",
       "    dp = \u001b[1m[\u001b[0m\u001b[1m[\u001b[0m\u001b[3;91mFalse\u001b[0m for _ in \u001b[1;35mrange\u001b[0m\u001b[1m(\u001b[0mn\u001b[1m)\u001b[0m\u001b[1m]\u001b[0m for _ in \u001b[1;35mrange\u001b[0m\u001b[1m(\u001b[0mn\u001b[1m)\u001b[0m\u001b[1m]\u001b[0m\n",
       "    ans = \u001b[32m''\u001b[0m\n",
       "    for i in \u001b[1;35mrange\u001b[0m\u001b[1m(\u001b[0mn-\u001b[1;36m1\u001b[0m, \u001b[1;36m-1\u001b[0m, \u001b[1;36m-1\u001b[0m\u001b[1m)\u001b[0m:\n",
       "        for j in \u001b[1;35mrange\u001b[0m\u001b[1m(\u001b[0mi, n\u001b[1m)\u001b[0m:\n",
       "            dp\u001b[3m = s\u001b[0m\u001b[3m == s\u001b[0m\u001b[3m and \u001b[0m\u001b[1;3m(\u001b[0m\u001b[3mj - i \u001b[0m\u001b[1;3m<\u001b[0m\u001b[3;39m \u001b[0m\u001b[1;3;36m3\u001b[0m\u001b[3;39m or dp\u001b[0m\u001b[1;3;39m)\u001b[0m\n",
       "\u001b[3;39m            if dp\u001b[0m\u001b[3;39m and j - i + \u001b[0m\u001b[1;3;36m1\u001b[0m\u001b[3;39m \u001b[0m\u001b[1;3m>\u001b[0m\u001b[3m \u001b[0m\u001b[1;3;35mlen\u001b[0m\u001b[1;3m(\u001b[0m\u001b[3mans\u001b[0m\u001b[1;3m)\u001b[0m\u001b[3m:\u001b[0m\n",
       "\u001b[3m                ans = s\u001b[0m\n",
       "\u001b[3m    return ans\u001b[0m\n"
      ]
     },
     "metadata": {},
     "output_type": "display_data"
    }
   ],
   "source": [
    "custom_obj = parser.parse(output)\n",
    "print(custom_obj.python_code)"
   ]
  },
  {
   "cell_type": "code",
   "execution_count": 10,
   "id": "5d3e4978",
   "metadata": {},
   "outputs": [
    {
     "data": {
      "text/html": [
       "<pre style=\"white-space:pre;overflow-x:auto;line-height:normal;font-family:Menlo,'DejaVu Sans Mono',consolas,'Courier New',monospace\">Success!\n",
       "</pre>\n"
      ],
      "text/plain": [
       "Success!\n"
      ]
     },
     "metadata": {},
     "output_type": "display_data"
    }
   ],
   "source": [
    "try:\n",
    "    exec(custom_obj.python_code)\n",
    "    print(\"Success!\")\n",
    "except Exception as e:\n",
    "    print(\"Failed!\")"
   ]
  }
 ],
 "metadata": {
  "kernelspec": {
   "display_name": "Python 3 (ipykernel)",
   "language": "python",
   "name": "python3"
  },
  "language_info": {
   "codemirror_mode": {
    "name": "ipython",
    "version": 3
   },
   "file_extension": ".py",
   "mimetype": "text/x-python",
   "name": "python",
   "nbconvert_exporter": "python",
   "pygments_lexer": "ipython3",
   "version": "3.9.13"
  }
 },
 "nbformat": 4,
 "nbformat_minor": 5
}
