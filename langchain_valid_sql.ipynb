{
 "cells": [
  {
   "cell_type": "code",
   "execution_count": 1,
   "id": "c9323a06",
   "metadata": {},
   "outputs": [],
   "source": [
    "from langchain.prompts import (\n",
    "    PromptTemplate,\n",
    "    ChatPromptTemplate,\n",
    "    HumanMessagePromptTemplate,\n",
    ")\n",
    "from langchain.llms import OpenAI\n",
    "from langchain.chat_models import ChatOpenAI\n",
    "\n",
    "from langchain.output_parsers import PydanticOutputParser\n",
    "from pydantic import BaseModel, Field, validator, root_validator\n",
    "from typing import List\n",
    "\n",
    "import openai\n",
    "import os\n",
    "openai.organization = os.getenv('OPENAI_ORG')\n",
    "openai.api_key = os.getenv('OPENAI_API_KEY')\n",
    "\n",
    "import sqlvalidator\n",
    "\n",
    "from rich import print\n",
    "import ast"
   ]
  },
  {
   "cell_type": "code",
   "execution_count": 2,
   "id": "f85e7dea",
   "metadata": {},
   "outputs": [],
   "source": [
    "model_name = \"text-davinci-003\"\n",
    "temperature = 0.0\n",
    "model = OpenAI(model_name=model_name, temperature=temperature)"
   ]
  },
  {
   "cell_type": "code",
   "execution_count": 3,
   "id": "493b3e0e",
   "metadata": {},
   "outputs": [],
   "source": [
    "class CustomObj(BaseModel):\n",
    "    \n",
    "    sql: str = Field(description=\"sql\")\n",
    "\n",
    "    @root_validator()\n",
    "    def verify_sql(cls, values):\n",
    "        sql = values.get(\"sql\")\n",
    "        try:\n",
    "            sqlvalidator.parse(sql)\n",
    "        except:\n",
    "            raise ValueError(\"The sql code is invalid.\")\n",
    "        return values"
   ]
  },
  {
   "cell_type": "code",
   "execution_count": 4,
   "id": "f94e460e",
   "metadata": {},
   "outputs": [
    {
     "data": {
      "text/plain": [
       "'The output should be formatted as a JSON instance that conforms to the JSON schema below.\\n\\nAs an example, for the schema {\"properties\": {\"foo\": {\"title\": \"Foo\", \"description\": \"a list of strings\", \"type\": \"array\", \"items\": {\"type\": \"string\"}}}, \"required\": [\"foo\"]}\\nthe object {\"foo\": [\"bar\", \"baz\"]} is a well-formatted instance of the schema. The object {\"properties\": {\"foo\": [\"bar\", \"baz\"]}} is not well-formatted.\\n\\nHere is the output schema:\\n```\\n{\"properties\": {\"sql\": {\"title\": \"Sql\", \"description\": \"sql\", \"type\": \"string\"}}, \"required\": [\"sql\"]}\\n```'"
      ]
     },
     "execution_count": 4,
     "metadata": {},
     "output_type": "execute_result"
    }
   ],
   "source": [
    "# Set up a parser + inject instructions into the prompt template.\n",
    "parser = PydanticOutputParser(pydantic_object=CustomObj)\n",
    "format_instructions = parser.get_format_instructions()\n",
    "format_instructions"
   ]
  },
  {
   "cell_type": "code",
   "execution_count": 5,
   "id": "2205f927",
   "metadata": {},
   "outputs": [
    {
     "data": {
      "text/plain": [
       "'\\nGenerate a valid SQL query for the following natural language instruction:\\n\\nProblem Description:\\nSelect the name of the employee who has the highest salary.\\n'"
      ]
     },
     "execution_count": 5,
     "metadata": {},
     "output_type": "execute_result"
    }
   ],
   "source": [
    "query_prefix = '''\n",
    "Generate a valid SQL query for the following natural language instruction:\n",
    "\n",
    "Problem Description:\n",
    "{description}\n",
    "'''\n",
    "\n",
    "query = query_prefix.format(description='Select the name of the employee who has the highest salary.')\n",
    "query"
   ]
  },
  {
   "cell_type": "code",
   "execution_count": 6,
   "id": "f56aa141",
   "metadata": {},
   "outputs": [
    {
     "data": {
      "text/plain": [
       "PromptTemplate(input_variables=['query'], output_parser=None, partial_variables={'format_instructions': 'The output should be formatted as a JSON instance that conforms to the JSON schema below.\\n\\nAs an example, for the schema {\"properties\": {\"foo\": {\"title\": \"Foo\", \"description\": \"a list of strings\", \"type\": \"array\", \"items\": {\"type\": \"string\"}}}, \"required\": [\"foo\"]}\\nthe object {\"foo\": [\"bar\", \"baz\"]} is a well-formatted instance of the schema. The object {\"properties\": {\"foo\": [\"bar\", \"baz\"]}} is not well-formatted.\\n\\nHere is the output schema:\\n```\\n{\"properties\": {\"sql\": {\"title\": \"Sql\", \"description\": \"sql\", \"type\": \"string\"}}, \"required\": [\"sql\"]}\\n```'}, template='Answer the user query.\\n{format_instructions}\\n{query}\\n', template_format='f-string', validate_template=True)"
      ]
     },
     "execution_count": 6,
     "metadata": {},
     "output_type": "execute_result"
    }
   ],
   "source": [
    "prompt = PromptTemplate(\n",
    "    template=\"Answer the user query.\\n{format_instructions}\\n{query}\\n\",\n",
    "    input_variables=[\"query\"],\n",
    "    partial_variables={\"format_instructions\": format_instructions},\n",
    ")\n",
    "prompt"
   ]
  },
  {
   "cell_type": "code",
   "execution_count": 7,
   "id": "a9b33d21",
   "metadata": {},
   "outputs": [
    {
     "data": {
      "text/plain": [
       "'Answer the user query.\\nThe output should be formatted as a JSON instance that conforms to the JSON schema below.\\n\\nAs an example, for the schema {\"properties\": {\"foo\": {\"title\": \"Foo\", \"description\": \"a list of strings\", \"type\": \"array\", \"items\": {\"type\": \"string\"}}}, \"required\": [\"foo\"]}\\nthe object {\"foo\": [\"bar\", \"baz\"]} is a well-formatted instance of the schema. The object {\"properties\": {\"foo\": [\"bar\", \"baz\"]}} is not well-formatted.\\n\\nHere is the output schema:\\n```\\n{\"properties\": {\"sql\": {\"title\": \"Sql\", \"description\": \"sql\", \"type\": \"string\"}}, \"required\": [\"sql\"]}\\n```\\n\\nGenerate a valid SQL query for the following natural language instruction:\\n\\nProblem Description:\\nSelect the name of the employee who has the highest salary.\\n\\n'"
      ]
     },
     "execution_count": 7,
     "metadata": {},
     "output_type": "execute_result"
    }
   ],
   "source": [
    "input_prompt = prompt.format_prompt(query=query).to_string()\n",
    "input_prompt"
   ]
  },
  {
   "cell_type": "code",
   "execution_count": 8,
   "id": "5ce8e718",
   "metadata": {},
   "outputs": [],
   "source": [
    "output = model(input_prompt)\n",
    "custom_obj = parser.parse(output)"
   ]
  },
  {
   "cell_type": "code",
   "execution_count": 9,
   "id": "be8643a8",
   "metadata": {},
   "outputs": [
    {
     "data": {
      "text/html": [
       "<pre style=\"white-space:pre;overflow-x:auto;line-height:normal;font-family:Menlo,'DejaVu Sans Mono',consolas,'Courier New',monospace\">SELECT name FROM employee ORDER BY salary DESC LIMIT <span style=\"color: #008080; text-decoration-color: #008080; font-weight: bold\">1</span>\n",
       "</pre>\n"
      ],
      "text/plain": [
       "SELECT name FROM employee ORDER BY salary DESC LIMIT \u001b[1;36m1\u001b[0m\n"
      ]
     },
     "metadata": {},
     "output_type": "display_data"
    }
   ],
   "source": [
    "print(custom_obj.sql)"
   ]
  }
 ],
 "metadata": {
  "kernelspec": {
   "display_name": "Python 3 (ipykernel)",
   "language": "python",
   "name": "python3"
  },
  "language_info": {
   "codemirror_mode": {
    "name": "ipython",
    "version": 3
   },
   "file_extension": ".py",
   "mimetype": "text/x-python",
   "name": "python",
   "nbconvert_exporter": "python",
   "pygments_lexer": "ipython3",
   "version": "3.9.13"
  }
 },
 "nbformat": 4,
 "nbformat_minor": 5
}
